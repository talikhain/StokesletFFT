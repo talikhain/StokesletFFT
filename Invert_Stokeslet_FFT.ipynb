{
 "cells": [
  {
   "cell_type": "code",
   "execution_count": 94,
   "metadata": {},
   "outputs": [],
   "source": [
    "#import needed packages\n",
    "import numpy as np\n",
    "import matplotlib.pyplot as plt\n",
    "import time\n",
    "import scipy.fft\n",
    "import time\n",
    "\n",
    "from matplotlib import cm\n",
    "from matplotlib.colors import ListedColormap\n",
    "import matplotlib.patches as mpatches\n",
    "\n",
    "%matplotlib inline"
   ]
  },
  {
   "cell_type": "code",
   "execution_count": 2,
   "metadata": {},
   "outputs": [],
   "source": [
    "#formatting plot style\n",
    "from matplotlib import rc\n",
    "font = {'family': 'serif',\n",
    "        'serif': ['Computer Modern'],\n",
    "        'weight' : 'bold',\n",
    "        'size'   : 12}\n",
    "\n",
    "rc('font', **font)\n",
    "rc('text', usetex=True)\n",
    "rc('text.latex', preamble=r'\\usepackage{amsmath}'\n",
    "                          r'\\boldmath')"
   ]
  },
  {
   "cell_type": "code",
   "execution_count": 3,
   "metadata": {},
   "outputs": [],
   "source": [
    "#creating new colormap\n",
    "top = cm.get_cmap('PuRd_r', 128)\n",
    "bottom = cm.get_cmap('Blues', 128)\n",
    "\n",
    "newcolors = np.vstack((top(np.linspace(0, 1, 128)),\n",
    "                       bottom(np.linspace(0, 1, 128))))\n",
    "newcmp = ListedColormap(newcolors, name='custom')"
   ]
  },
  {
   "cell_type": "code",
   "execution_count": 4,
   "metadata": {},
   "outputs": [],
   "source": [
    "#v_fourier outputs the expression for the velocity field in Fourier space, \n",
    "#which is computed with a Mathematica notebook\n",
    "def v_fourier(Q, qx, qy, qz, eps, F, visc_coeff):\n",
    "    \n",
    "    #create grid in Fourier space\n",
    "    qxg, qyg, qzg = np.meshgrid(qx, qy, qz) \n",
    "    \n",
    "    qsqr = qxg**2 + qyg**2 + qzg**2\n",
    "    q = np.array([qxg, qyg, qzg])\n",
    "    \n",
    "    #will regularize integrand with Gaussian kernel to avoid Gibbs oscillations\n",
    "    a = np.pi / (2*Q)\n",
    "    gauss = np.exp(-a**2 * qsqr / np.pi)\n",
    "    \n",
    "    #all viscosity coefficients\n",
    "    Gamma1, Gamma3, etaR = visc_coeff[0], visc_coeff[1], visc_coeff[2]\n",
    "    eta_eQ1, eta_oQ1 = visc_coeff[3], visc_coeff[4]\n",
    "    eta_eQ2, eta_oQ2 = visc_coeff[5], visc_coeff[6]\n",
    "    eta_eQ3, eta_oQ3 = visc_coeff[7], visc_coeff[8]\n",
    "    eta_eA, eta_oA = visc_coeff[9], visc_coeff[10]\n",
    "    eta_eS, eta_oS = visc_coeff[11], visc_coeff[12]\n",
    "    xi = visc_coeff[13]\n",
    "    eta_o1, eta_o2 = visc_coeff[14], visc_coeff[15]\n",
    "    mu = visc_coeff[16]\n",
    "    \n",
    "    #expression for velocity field in Fourier space from Mathematica calculation\n",
    "    denominator = qsqr**2 * (qzg**2 * etaR**2 + qsqr*mu**2) + qzg**2 * qsqr**2 * Gamma1**2 + 4*qzg**6 * eta_eQ2**2 \\\n",
    "                +4*np.sqrt(3)*qxg**2 * qzg**4 * eta_eQ2 *eta_eQ3 + 4*np.sqrt(3)*qyg**2 * qzg**4 * eta_eQ2 *eta_eQ3 \\\n",
    "                +3*qxg**4 * qzg**2 *eta_eQ3**2 + 6*qxg**2 *qyg**2 * qzg**2 * eta_eQ3**2 + 3*qyg**4*qzg**2 * eta_eQ3**2 \\\n",
    "                -4*qxg**2 * qzg**4 * eta_eQ2 * eta_o1 - 4*qyg**2 *qzg**4 *eta_eQ2 *eta_o1 \\\n",
    "                -2*np.sqrt(3)*qxg**4 *qzg**2 * eta_eQ3 *eta_o1 - 4*np.sqrt(3)*qxg**2 *qyg**2 *qzg**2 *eta_eQ3 *eta_o1 \\\n",
    "                -2*np.sqrt(3)*qyg**4 * qzg**2 *eta_eQ3*eta_o1 + qxg**4*qzg**2 *eta_o1**2 \\\n",
    "                +2*qxg**2 *qyg**2 *qzg**2 * eta_o1**2 + qyg**4 *qzg**2 *eta_o1**2 - 4*qxg**2 *qzg**4 *eta_eQ2*eta_o2 \\\n",
    "                -4*qyg**2 *qzg**4 *eta_eQ2*eta_o2 + 4*qzg**6 *eta_eQ2 *eta_o2 - 2*np.sqrt(3)*qxg**4 * qzg**2 *eta_eQ3 * eta_o2 \\\n",
    "                -4*np.sqrt(3)*qxg**2 *qyg**2 *qzg**2 *eta_eQ3 *eta_o2 - 2*np.sqrt(3)*qyg**4 *qzg**2 *eta_eQ3 * eta_o2 \\\n",
    "                +2*np.sqrt(3)*qxg**2 *qzg**4 *eta_eQ3 *eta_o2 + 2*np.sqrt(3)*qyg**2 *qzg**4 *eta_eQ3 * eta_o2\\\n",
    "                +2*qxg**4 *qzg**2 *eta_o1*eta_o2 + 4*qxg**2 *qyg**2 *qzg**2 *eta_o1*eta_o2 + 2*qyg**4 *qzg**2 *eta_o1 *eta_o2\\\n",
    "                -2*qxg**2 *qzg**4 *eta_o1*eta_o2 - 2*qyg**2 *qzg**4 *eta_o1*eta_o2 + qxg**4 *qzg**2 *eta_o2**2 \\\n",
    "                +2*qxg**2 *qyg**2 *qzg**2 *eta_o2**2 + qyg**4 *qzg**2 *eta_o2**2 - 2*qxg**2 *qzg**4 *eta_o2**2 \\\n",
    "                -2*qyg**2 *qzg**4 *eta_o2**2 + qzg**6 *eta_o2**2 + 2*qzg**2 *qsqr *etaR*((qxg**2 + qyg**2)*(np.sqrt(3)*eta_eQ3 \\\n",
    "                - eta_o1 - eta_o2) + qzg**2 *(2*eta_eQ2 + eta_o2)) \\\n",
    "                -2*qxg**6 *mu*eta_oQ1 - 6*qxg**4 *qyg**2*mu*eta_oQ1 - 6*qxg**2 *qyg**4 *mu*eta_oQ1 \\\n",
    "                -2*qyg**6 *mu*eta_oQ1 + 6*qxg**2 *qzg**4*mu*eta_oQ1 + 6*qyg**2 *qzg**4*mu*eta_oQ1 + 4*qzg**6*mu*eta_oQ1 \\\n",
    "                -4*qxg**4 *qzg**2 *eta_oQ1**2 - 8*qxg**2 *qyg**2 *qzg**2 *eta_oQ1**2 - 4*qyg**4*qzg**2 *eta_oQ1**2 \\\n",
    "                +4*qzg**6 *eta_oQ1**2 - qsqr*Gamma1*(qsqr*((qxg**2 + qyg**2 + 2*qzg**2)*mu - (qxg**2 + qyg**2)*Gamma3) \\\n",
    "                + 4*qzg**4 *eta_oQ1) \\\n",
    "                +(qxg**2 + qyg**2)*Gamma3*(-qsqr**2*mu + 2*((qxg**2 + qyg**2)**2 - qzg**4)*eta_oQ1) - 4*qxg**4 *qzg**2 *eta_oQ2**2 \\\n",
    "                -8*qxg**2 *qyg**2 *qzg**2 *eta_oQ2**2 - 4*qyg**4 *qzg**2 *eta_oQ2**2 + 4*np.sqrt(3)*qxg**4 *qzg**2 *eta_oQ2*eta_oQ3 \\\n",
    "                +8*np.sqrt(3)*qxg**2 *qyg**2*qzg**2 *eta_oQ2 *eta_oQ3 + 4*np.sqrt(3)*qyg**4 *qzg**2 *eta_oQ2 *eta_oQ3 \\\n",
    "                -3*qxg**4 *qzg**2 *eta_oQ3**2 - 6*qxg**2 *qyg**2 *qzg**2 *eta_oQ3**2 - 3*qyg**4*qzg**2 *eta_oQ3**2 \\\n",
    "                +eps**2 #add epsilon^2 to regularize integrand\n",
    "    \n",
    "    vfx = F[2]*gauss/denominator *\\\n",
    "        qzg*(qsqr*(qyg*etaR + qxg*mu) - qxg*qzg**2 *Gamma1 - qxg*(qxg**2 + qyg**2)*Gamma3 + 2*qyg* qzg**2*eta_eQ2 \\\n",
    "             +np.sqrt(3)*qxg**2*qyg*eta_eQ3 + np.sqrt(3)*qyg**3 *eta_eQ3 - qxg**2*qyg*eta_o1 - qyg**3*eta_o1\\\n",
    "             -qxg**2*qyg*eta_o2 -qyg**3*eta_o2 + qyg*qzg**2*eta_o2 + 2*qxg*qzg**2*eta_oQ1 - 2*qxg**2 *qyg*eta_oQ2 - 2*qyg**3 *eta_oQ2 \\\n",
    "             +np.sqrt(3)*qxg**2 *qyg*eta_oQ3 + np.sqrt(3)*qyg**3*eta_oQ3)\n",
    "    \n",
    "    vfy = -F[2]*gauss/denominator * \\\n",
    "        qzg*(qsqr * (qxg*etaR - qyg*mu) + qyg *qzg**2*Gamma1 + qyg*(qxg**2 + qyg**2)*Gamma3 + 2*qxg*qzg**2*eta_eQ2 \\\n",
    "            +np.sqrt(3)*qxg**3*eta_eQ3 + np.sqrt(3)*qxg*qyg**2*eta_eQ3 - qxg**3*eta_o1 -qxg*qyg**2*eta_o1 \\\n",
    "            -qxg**3*eta_o2 - qxg*qyg**2*eta_o2 + qxg*qzg**2*eta_o2 - 2*qyg*qzg**2 *eta_oQ1 - 2*qxg**3 *eta_oQ2 \\\n",
    "            -2*qxg*qyg**2 * eta_oQ2 + np.sqrt(3)*qxg**3*eta_oQ3 + np.sqrt(3)*qxg*qyg**2*eta_oQ3)\n",
    "    \n",
    "    vfz = -F[2]*gauss/denominator * (qxg**2 + qyg**2)*(qsqr*mu - (qxg**2 + qyg**2)*Gamma3 - qzg**2*(Gamma1 - 2*eta_oQ1))\n",
    "    \n",
    "    return [vfx, vfy, vfz]"
   ]
  },
  {
   "cell_type": "code",
   "execution_count": 5,
   "metadata": {},
   "outputs": [],
   "source": [
    "#v_fourier_ifft performs the numerical inversion to compute the real space velocity field\n",
    "def v_fourier_ifft(Q, dq, eps, visc_coeff, F):\n",
    "    \n",
    "    #set up grid in Fourier space, ranging from -Q to Q with spacing dq\n",
    "    xs = scipy.fft.fftfreq(len(np.arange(-Q, Q+dq, dq)), dq/(2*np.pi))\n",
    "    qs = scipy.fft.ifftshift(np.linspace(-Q, Q, len(xs)))\n",
    "    \n",
    "    #compute Fourier space velocity field on this grid using analytical expression\n",
    "    vf = v_fourier(Q, qs, qs, qs, eps, F, visc_coeff)\n",
    "    \n",
    "    #invert\n",
    "    v = []\n",
    "    for i in range(3):\n",
    "        vi = 1 / (2*np.pi)**3 * (2*Q)**3 * scipy.fft.irfftn(vf[i], s = [len(xs), len(xs), len(xs)], workers = 3)\n",
    "        \n",
    "        v.append(scipy.fft.fftshift(vi))\n",
    "    \n",
    "    return scipy.fft.fftshift(xs), v"
   ]
  },
  {
   "cell_type": "markdown",
   "metadata": {},
   "source": [
    "## example: comparison with standard Stokeslet"
   ]
  },
  {
   "cell_type": "code",
   "execution_count": 83,
   "metadata": {
    "collapsed": true
   },
   "outputs": [
    {
     "name": "stderr",
     "output_type": "stream",
     "text": [
      "/Users/talikhain/anaconda3/lib/python3.7/site-packages/ipykernel_launcher.py:24: RuntimeWarning: invalid value encountered in true_divide\n",
      "/Users/talikhain/anaconda3/lib/python3.7/site-packages/ipykernel_launcher.py:25: RuntimeWarning: invalid value encountered in true_divide\n"
     ]
    }
   ],
   "source": [
    "eps = 0.00001 #add epsilon^2 to denominator of integrand to regularize at q = 0\n",
    "dq = 0.07 #spacing in Fourier space\n",
    "Q = 10 #max value of q\n",
    "\n",
    "F = np.array([0, 0, 1]) #external force\n",
    "\n",
    "#values of viscosity coefficients\n",
    "Gamma1, Gamma3, etaR = 0, 0, 0\n",
    "eta_eQ1, eta_oQ1 = 0, 0\n",
    "eta_eQ2, eta_oQ2 = 0, 0\n",
    "eta_eQ3, eta_oQ3 = 0, 0\n",
    "eta_eA, eta_oA = 0, 0\n",
    "eta_eS, eta_oS = 0, 0\n",
    "xi = 0\n",
    "eta_o1, eta_o2 = 0, 0\n",
    "mu = 1\n",
    "\n",
    "visc_coeff_list = [Gamma1, Gamma3, etaR, eta_eQ1, eta_oQ1, eta_eQ2, eta_oQ2, eta_eQ3, eta_oQ3, eta_eA,\n",
    "                  eta_oA, eta_eS, eta_oS, xi, eta_o1, eta_o2, mu]\n",
    "\n",
    "#call inverse FFT function\n",
    "fft_xs, v = v_fourier_ifft(Q, dq, eps, visc_coeff_list, F)\n",
    "\n",
    "#compute velocities in cylindrical coordinates from v (Cartesian coordinates)\n",
    "x, y, z = np.meshgrid(fft_xs, fft_xs, fft_xs)\n",
    "vr = (v[0]*x + v[1]*y) / np.sqrt(x**2+ y**2)\n",
    "vphi = (-v[0]*y + v[1]*x) / np.sqrt(x**2 + y**2)"
   ]
  },
  {
   "cell_type": "code",
   "execution_count": 84,
   "metadata": {
    "collapsed": true
   },
   "outputs": [
    {
     "name": "stderr",
     "output_type": "stream",
     "text": [
      "/Users/talikhain/anaconda3/lib/python3.7/site-packages/ipykernel_launcher.py:6: RuntimeWarning: invalid value encountered in true_divide\n",
      "  \n",
      "/Users/talikhain/anaconda3/lib/python3.7/site-packages/ipykernel_launcher.py:7: RuntimeWarning: invalid value encountered in true_divide\n",
      "  import sys\n",
      "/Users/talikhain/anaconda3/lib/python3.7/site-packages/ipykernel_launcher.py:8: RuntimeWarning: invalid value encountered in true_divide\n",
      "  \n",
      "/Users/talikhain/anaconda3/lib/python3.7/site-packages/ipykernel_launcher.py:10: RuntimeWarning: invalid value encountered in true_divide\n",
      "  # Remove the CWD from sys.path while we load stuff.\n",
      "/Users/talikhain/anaconda3/lib/python3.7/site-packages/ipykernel_launcher.py:11: RuntimeWarning: invalid value encountered in true_divide\n",
      "  # This is added back by InteractiveShellApp.init_path()\n"
     ]
    }
   ],
   "source": [
    "#analytical expression for Stokeslet with shear viscosity mu and force in -z\n",
    "Fz = -F[2]\n",
    "\n",
    "x, y, z = np.meshgrid(fft_xs, fft_xs, fft_xs)\n",
    "\n",
    "vx_theory = Fz/(8*np.pi*mu) * z*x / (x**2 + y**2 + z**2)**(3/2)\n",
    "vy_theory = Fz/(8*np.pi*mu) * z*y / (x**2 + y**2 + z**2)**(3/2)\n",
    "vz_theory = Fz/(8*np.pi*mu) * (x**2 + y**2 + 2*z**2) / (x**2 + y**2 + z**2)**(3/2)\n",
    "\n",
    "vr_theory = (vx_theory*x + vy_theory*y) / np.sqrt(x**2+ y**2)\n",
    "vphi_theory = (-vx_theory*y + vy_theory*x) / np.sqrt(x**2 + y**2)"
   ]
  },
  {
   "cell_type": "code",
   "execution_count": 89,
   "metadata": {},
   "outputs": [
    {
     "data": {
      "image/png": "[encoded data removed]",
      "text/plain": [
       "<Figure size 720x288 with 2 Axes>"
      ]
     },
     "metadata": {
      "needs_background": "light"
     },
     "output_type": "display_data"
    }
   ],
   "source": [
    "fig, axes = plt.subplots(nrows=1, ncols=2, figsize=(10, 4))\n",
    "\n",
    "ind1 = 145\n",
    "ind2 = 145\n",
    "\n",
    "plt.subplot(121)\n",
    "plt.plot(vr_theory[ind1, ind2, :] - np.nanmean(vr_theory), fft_xs, color='crimson', label=r'\\textbf{theory}')\n",
    "plt.plot(vr[ind1, ind2, :] - np.nanmean(vr), fft_xs, marker='.', linestyle='None', color='royalblue', label=r'\\textbf{numerics}')\n",
    "plt.ylim(-10, 10)\n",
    "plt.ylabel(r'\\textbf{$z$}',fontsize=16)\n",
    "plt.xlabel(r'\\textbf{$v_r$}',fontsize=16)\n",
    "plt.legend()\n",
    "\n",
    "plt.subplot(122)\n",
    "plt.plot(vz_theory[ind1, ind2, :] - np.nanmean(vz_theory), fft_xs, color='crimson', label=r'\\textbf{theory}')\n",
    "plt.plot(v[2][ind1, ind2, :] - np.nanmean(v[2]), fft_xs, marker='.', linestyle='None', color='royalblue', label=r'\\textbf{numerics}')\n",
    "plt.ylim(-10, 10)\n",
    "plt.ylabel(r'\\textbf{$z$}',fontsize=16)\n",
    "plt.xlabel(r'\\textbf{$v_z$}',fontsize=16)\n",
    "plt.legend()\n",
    "\n",
    "plt.tight_layout()\n",
    "plt.show()"
   ]
  },
  {
   "cell_type": "markdown",
   "metadata": {},
   "source": [
    "## example: Stokeslet with perturbative odd shear viscosities, $\\eta_1^o = -2\\eta_2^o$"
   ]
  },
  {
   "cell_type": "code",
   "execution_count": 110,
   "metadata": {},
   "outputs": [
    {
     "name": "stderr",
     "output_type": "stream",
     "text": [
      "/Users/talikhain/anaconda3/lib/python3.7/site-packages/ipykernel_launcher.py:24: RuntimeWarning: invalid value encountered in true_divide\n",
      "/Users/talikhain/anaconda3/lib/python3.7/site-packages/ipykernel_launcher.py:25: RuntimeWarning: invalid value encountered in true_divide\n"
     ]
    }
   ],
   "source": [
    "eps = 0.00001 #add epsilon^2 to denominator of integrand to regularize at q = 0\n",
    "dq = 0.07 #spacing in Fourier space\n",
    "Q = 10 #max value of q\n",
    "\n",
    "F = np.array([0, 0, 1]) #external force\n",
    "\n",
    "#values of viscosity coefficients\n",
    "Gamma1, Gamma3, etaR = 0, 0, 0\n",
    "eta_eQ1, eta_oQ1 = 0, 0\n",
    "eta_eQ2, eta_oQ2 = 0, 0\n",
    "eta_eQ3, eta_oQ3 = 0, 0\n",
    "eta_eA, eta_oA = 0, 0\n",
    "eta_eS, eta_oS = 0, 0\n",
    "xi = 0\n",
    "eta_o1, eta_o2 = -0.2, 0.1\n",
    "mu = 1\n",
    "\n",
    "visc_coeff_list = [Gamma1, Gamma3, etaR, eta_eQ1, eta_oQ1, eta_eQ2, eta_oQ2, eta_eQ3, eta_oQ3, eta_eA,\n",
    "                  eta_oA, eta_eS, eta_oS, xi, eta_o1, eta_o2, mu]\n",
    "\n",
    "fft_xs, v = v_fourier_ifft(Q, dq, eps, visc_coeff_list, F)\n",
    "\n",
    "x, y, z = np.meshgrid(fft_xs, fft_xs, fft_xs)\n",
    "vr = (v[0]*x + v[1]*y) / np.sqrt(x**2+ y**2)\n",
    "vphi = (-v[0]*y + v[1]*x) / np.sqrt(x**2 + y**2)"
   ]
  },
  {
   "cell_type": "code",
   "execution_count": 111,
   "metadata": {},
   "outputs": [
    {
     "data": {
      "image/png": "[encoded data removed]",
      "text/plain": [
       "<Figure size 360x504 with 2 Axes>"
      ]
     },
     "metadata": {
      "needs_background": "light"
     },
     "output_type": "display_data"
    }
   ],
   "source": [
    "fig, axes = plt.subplots(nrows=1, ncols=1, figsize=(5, 7))\n",
    "\n",
    "plt.subplot(111)\n",
    "\n",
    "ind = 145\n",
    "cont = plt.contourf(fft_xs, fft_xs, np.transpose(vphi[ind,:,:]), 50, cmap=newcmp)#, vmin = -1, vmax = 1)\n",
    "circle = mpatches.Circle([0, 0], radius = 1, color = 'white')\n",
    "axes.add_patch(circle)\n",
    "\n",
    "plt.xlim(0, 10)\n",
    "plt.ylim(-10, 10)\n",
    "plt.xticks([0, 3, 6, 9], size=12)\n",
    "plt.yticks([-9, -6, -3, 0, 3, 6, 9], size=12)\n",
    "#plt.text(0.5, 8.5, coeff_label_list[count], fontsize=16)\n",
    "\n",
    "cb = plt.colorbar(cont)#, ticks = np.arange(-2, 2.5, 0.5))\n",
    "cb.set_label(label=r'\\textbf{$v_{\\phi}$}', size=16)\n",
    "cb.ax.tick_params(labelsize=12) \n",
    "\n",
    "plt.tight_layout()\n",
    "plt.show()"
   ]
  },
  {
   "cell_type": "code",
   "execution_count": null,
   "metadata": {},
   "outputs": [],
   "source": []
  }
 ],
 "metadata": {
  "kernelspec": {
   "display_name": "Python 3",
   "language": "python",
   "name": "python3"
  },
  "language_info": {
   "codemirror_mode": {
    "name": "ipython",
    "version": 3
   },
   "file_extension": ".py",
   "mimetype": "text/x-python",
   "name": "python",
   "nbconvert_exporter": "python",
   "pygments_lexer": "ipython3",
   "version": "3.7.4"
  }
 },
 "nbformat": 4,
 "nbformat_minor": 2
}
